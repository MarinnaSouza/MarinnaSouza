{
  "nbformat": 4,
  "nbformat_minor": 0,
  "metadata": {
    "colab": {
      "provenance": [],
      "include_colab_link": true
    },
    "kernelspec": {
      "name": "python3",
      "display_name": "Python 3"
    },
    "language_info": {
      "name": "python"
    }
  },
  "cells": [
    {
      "cell_type": "markdown",
      "metadata": {
        "id": "view-in-github",
        "colab_type": "text"
      },
      "source": [
        "<a href=\"https://colab.research.google.com/github/MarinnaSouza/MarinnaSouza/blob/main/%5BCHALLENGE%5D_%5BMETEOR%5D_Marinna_Souza.ipynb\" target=\"_parent\"><img src=\"https://colab.research.google.com/assets/colab-badge.svg\" alt=\"Open In Colab\"/></a>"
      ]
    },
    {
      "cell_type": "code",
      "source": [
        "from google.colab import drive\n",
        "drive.mount('/content/drive')"
      ],
      "metadata": {
        "colab": {
          "base_uri": "https://localhost:8080/"
        },
        "id": "I31R3ed4geVh",
        "outputId": "314b66d1-cfd4-404a-906b-71a3f68dc061"
      },
      "execution_count": 3,
      "outputs": [
        {
          "output_type": "stream",
          "name": "stdout",
          "text": [
            "Mounted at /content/drive\n"
          ]
        }
      ]
    },
    {
      "cell_type": "code",
      "source": [
        "import cv2\n",
        "from google.colab.patches import cv2_imshow\n",
        "import numpy as np"
      ],
      "metadata": {
        "id": "Mh-qwK6_jc7E"
      },
      "execution_count": 5,
      "outputs": []
    },
    {
      "cell_type": "code",
      "source": [
        "img = '/content/drive/MyDrive/Desafio Meteoros/meteor_challenge_01.png'\n",
        "image = cv2.imread(img)\n",
        "imageRGB = cv2.cvtColor(image, cv2.COLOR_BGR2RGB)"
      ],
      "metadata": {
        "id": "5g8tRIGcd4Nb"
      },
      "execution_count": 6,
      "outputs": []
    },
    {
      "cell_type": "code",
      "execution_count": 7,
      "metadata": {
        "id": "wInHIS8SdE0c"
      },
      "outputs": [],
      "source": [
        "\n",
        "def countStars(image):\n",
        "    #Contando as estrelas\n",
        "    imageGray = cv2.imread(img, cv2.IMREAD_GRAYSCALE)\n",
        "    numStars = np.sum(imageGray == 255)\n",
        "\n",
        "    return numStars"
      ]
    },
    {
      "cell_type": "code",
      "execution_count": 8,
      "metadata": {
        "id": "pEg8Ij3N1NFw"
      },
      "outputs": [],
      "source": [
        "# Função que conta os meteoros no ceu\n",
        "def meteorsInSky(image):\n",
        "\n",
        "  # Inicializar contadores\n",
        "  countMeteors = 0\n",
        "  countMeteorsInWater = 0\n",
        "\n",
        "  # Loop leitura de cada pixel\n",
        "  for i, row in enumerate(image):\n",
        "      for j, pixel in enumerate(row):\n",
        "\n",
        "          # Verificar se o pixel é vermelho puro\n",
        "          if np.all(pixel == [255, 0, 0]):\n",
        "              countMeteors += 1\n",
        "\n",
        "              # Verificar se há azul puro abaixo deste pixel\n",
        "              if checkInWater(image, i, j):\n",
        "                  countMeteorsInWater += 1\n",
        "\n",
        "  return countMeteors, countMeteorsInWater\n",
        "\n",
        "# função que verifica se o meteoro vai cair na agua\n",
        "def checkInWater(image, rowMeteor, colMeteor):\n",
        "    rows = image.shape[0]\n",
        "\n",
        "    lowerBlue = np.array([0, 0, 252])  # Mínimo para azul\n",
        "    upperBlue = np.array([130, 255, 255])\n",
        "\n",
        "    for i in range(rowMeteor, rows):\n",
        "        pixel = image[i, colMeteor]\n",
        "        # Verificar se o pixel está dentro do intervalo de azul\n",
        "        if np.all(lowerBlue <= pixel) and np.all(pixel <= upperBlue):\n",
        "            return True\n",
        "        # Verificar se o pixel é preto\n",
        "        elif np.all(pixel == [0, 0, 0]):\n",
        "            return False"
      ]
    },
    {
      "cell_type": "code",
      "source": [
        "stars = countStars(image)\n",
        "meteors, meteorsInWater = meteorsInSky(imageRGB)\n",
        "\n",
        "print(f\"Quantidade de Estrelas na imagem: {stars}\")\n",
        "print(f\"Número de Meteoros: {meteors}\")\n",
        "print(f\"Número de Meteoros que irão cair na água: { meteorsInWater}\")"
      ],
      "metadata": {
        "colab": {
          "base_uri": "https://localhost:8080/"
        },
        "id": "hBCipE1slFXa",
        "outputId": "43065fff-0c61-4ed2-bd63-31328d014b66"
      },
      "execution_count": 9,
      "outputs": [
        {
          "output_type": "stream",
          "name": "stdout",
          "text": [
            "Quantidade de Estrelas na imagem: 315\n",
            "Número de Meteoros: 328\n",
            "Número de Meteoros que irão cair na água: 105\n"
          ]
        }
      ]
    }
  ]
}